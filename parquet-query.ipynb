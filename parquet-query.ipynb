output_folder_hadoop = "hdfs://172.23.92.97/user/mapr/cp_out/"
table_name = "cpdiag_data"
table_name_2 = "cpdiag_flat_info_data"
sqlContext = SQLContext(sc)
df_new = sqlContext.read.parquet(output_folder_hadoop + table_name)
df_new.registerTempTable(table_name)

df_new = sqlContext.read.parquet(output_folder_hadoop + table_name_2)
df_new.registerTempTable(table_name_2)

bb = sqlContext.sql("select b.configuration, count(distinct a.mac)  from " + table_name + " as a inner join " + table_name_2 + " as b on a.id=b.id group by b.configuration")
#bb = sqlContext.sql("select configuration,max(id) from cpdiag_flat_info_data group by configuration")
bb.show()
